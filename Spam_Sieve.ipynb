{
  "nbformat": 4,
  "nbformat_minor": 0,
  "metadata": {
    "colab": {
      "name": "Spam Sieve.ipynb",
      "provenance": [],
      "authorship_tag": "ABX9TyMWAO0llRxro5TYYRvzmh+R"
    },
    "kernelspec": {
      "name": "python3",
      "display_name": "Python 3"
    },
    "language_info": {
      "name": "python"
    }
  },
  "cells": [
    {
      "cell_type": "code",
      "metadata": {
        "colab": {
          "base_uri": "https://localhost:8080/"
        },
        "id": "6EG3SDeZBf2E",
        "outputId": "d82aa1b7-367d-4d4b-b27d-f8988839ee9c"
      },
      "source": [
        "from google.colab import drive\n",
        "drive.mount('/content/gdrive')"
      ],
      "execution_count": 1,
      "outputs": [
        {
          "output_type": "stream",
          "text": [
            "Mounted at /content/gdrive\n"
          ],
          "name": "stdout"
        }
      ]
    },
    {
      "cell_type": "code",
      "metadata": {
        "id": "EbuIWAeGBiJS"
      },
      "source": [
        "import numpy as np\n",
        "import os\n",
        "from sklearn.feature_extraction.text import CountVectorizer\n",
        "from sklearn.naive_bayes import MultinomialNB"
      ],
      "execution_count": 2,
      "outputs": []
    },
    {
      "cell_type": "code",
      "metadata": {
        "id": "iQmIuW9FB0UN"
      },
      "source": [
        "\n",
        "def read_file(path):\n",
        "    \n",
        "    for root, dirname, filenames in os.walk(path):\n",
        "        \n",
        "        for filename in filenames:\n",
        "            \n",
        "            path=os.path.join(root,filename)\n",
        "            f=open(path,'r')\n",
        "            lines=[]\n",
        "            for line in f:\n",
        "                lines.append(line)\n",
        "            f.close()\n",
        "            message='\\n'.join(lines)\n",
        "            yield message"
      ],
      "execution_count": 3,
      "outputs": []
    },
    {
      "cell_type": "code",
      "metadata": {
        "colab": {
          "base_uri": "https://localhost:8080/"
        },
        "id": "9sF3FFJdB5w8",
        "outputId": "933bc240-7b11-4be4-fa78-76cebd0b258a"
      },
      "source": [
        "train_mail=[]\n",
        "\n",
        "for message in read_file('gdrive/My Drive/Spam Sieve/Training_Set/spam'):\n",
        "    train_mail.append([message,'spam'])\n",
        "    \n",
        "\n",
        "for message in read_file('gdrive/My Drive/Spam Sieve/Training_Set/ham'):\n",
        "    train_mail.append([message,'ham'])\n",
        "    \n",
        "\n",
        "train_data=np.asarray(train_mail)\n",
        "\n",
        "\n",
        "print (train_data.shape)"
      ],
      "execution_count": 8,
      "outputs": [
        {
          "output_type": "stream",
          "text": [
            "(700, 2)\n"
          ],
          "name": "stdout"
        }
      ]
    },
    {
      "cell_type": "code",
      "metadata": {
        "id": "wEjxvAz2B-J5"
      },
      "source": [
        "vectorizer=CountVectorizer()\n",
        "counts=vectorizer.fit_transform(train_data[:,0])"
      ],
      "execution_count": 9,
      "outputs": []
    },
    {
      "cell_type": "code",
      "metadata": {
        "colab": {
          "base_uri": "https://localhost:8080/"
        },
        "id": "DbOLrex6DJku",
        "outputId": "47814551-df93-47af-d7d9-98b28411defd"
      },
      "source": [
        "\n",
        "classifer=MultinomialNB()\n",
        "targets=train_data[:,1]\n",
        "classifer.fit(counts,targets)"
      ],
      "execution_count": 10,
      "outputs": [
        {
          "output_type": "execute_result",
          "data": {
            "text/plain": [
              "MultinomialNB(alpha=1.0, class_prior=None, fit_prior=True)"
            ]
          },
          "metadata": {
            "tags": []
          },
          "execution_count": 10
        }
      ]
    },
    {
      "cell_type": "code",
      "metadata": {
        "colab": {
          "base_uri": "https://localhost:8080/"
        },
        "id": "KXevFdgeDNIh",
        "outputId": "6b92fc37-f4e3-4af0-d17b-c0d9f3dd1f3f"
      },
      "source": [
        "test_mail=[]\n",
        "for message in read_file('gdrive/My Drive/Spam Sieve/Testing_Set/spam'):\n",
        "    test_mail.append([message,'spam'])\n",
        "    \n",
        "\n",
        "for message in read_file('gdrive/My Drive/Spam Sieve/Testing_Set/ham'):\n",
        "    test_mail.append([message,'ham'])\n",
        "test_data=np.asarray(test_mail)\n",
        "\n",
        "print (test_data.shape)\n"
      ],
      "execution_count": 11,
      "outputs": [
        {
          "output_type": "stream",
          "text": [
            "(260, 2)\n"
          ],
          "name": "stdout"
        }
      ]
    },
    {
      "cell_type": "code",
      "metadata": {
        "id": "1UPxR3pbDbSl"
      },
      "source": [
        "example_counts=vectorizer.transform(test_data[:,0])\n",
        "predictions=classifer.predict(example_counts)"
      ],
      "execution_count": 12,
      "outputs": []
    },
    {
      "cell_type": "code",
      "metadata": {
        "id": "QOiFAd2kD3wJ"
      },
      "source": [
        "import pandas as pd\n",
        "df1=pd.DataFrame(test_data)"
      ],
      "execution_count": 13,
      "outputs": []
    },
    {
      "cell_type": "code",
      "metadata": {
        "colab": {
          "base_uri": "https://localhost:8080/"
        },
        "id": "wf0ruu0SD8tw",
        "outputId": "85319541-5a84-47d6-f910-1eeb9ca2be65"
      },
      "source": [
        "x=0\n",
        "for i in range(len(predictions)):\n",
        "    if test_data[i][1]==predictions[i]:\n",
        "        x+=1\n",
        "print (\"Accuracy: \", 100*x/len(predictions))\n",
        "df1.to_csv('gdrive/My Drive/Spam Sieve/CLASSIFIED.csv')"
      ],
      "execution_count": 14,
      "outputs": [
        {
          "output_type": "stream",
          "text": [
            "Accuracy:  97.6923076923077\n"
          ],
          "name": "stdout"
        }
      ]
    },
    {
      "cell_type": "code",
      "metadata": {
        "id": "MAGDLhRLEFOQ"
      },
      "source": [
        ""
      ],
      "execution_count": null,
      "outputs": []
    }
  ]
}