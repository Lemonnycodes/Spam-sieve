{
  "nbformat": 4,
  "nbformat_minor": 0,
  "metadata": {
    "colab": {
      "name": "spamsieve.ipynb",
      "provenance": [],
      "collapsed_sections": [],
      "authorship_tag": "ABX9TyP+HTwPVXyWXK5Dg3RXSQij"
    },
    "kernelspec": {
      "display_name": "Python 3",
      "name": "python3"
    },
    "language_info": {
      "name": "python"
    }
  },
  "cells": [
    {
      "cell_type": "code",
      "metadata": {
        "colab": {
          "base_uri": "https://localhost:8080/"
        },
        "id": "TKsbQDTFgGoN",
        "outputId": "1813041c-07f6-4900-d555-576cbf1f6d46"
      },
      "source": [
        "from google.colab import drive\n",
        "drive.mount('/content/gdrive')\n"
      ],
      "execution_count": null,
      "outputs": [
        {
          "output_type": "stream",
          "text": [
            "Mounted at /content/gdrive\n"
          ],
          "name": "stdout"
        }
      ]
    },
    {
      "cell_type": "code",
      "metadata": {
        "id": "Z-WSTTd5gM_f"
      },
      "source": [
        "import mailbox\n",
        "%matplotlib inline\n",
        "import matplotlib.pyplot as plt\n",
        "import csv\n",
        "from textblob import TextBlob\n",
        "import pandas as pd\n",
        "import sklearn\n",
        "import numpy as np\n",
        "from sklearn.feature_extraction.text import CountVectorizer, TfidfTransformer\n",
        "from sklearn.naive_bayes import MultinomialNB\n",
        "from sklearn.svm import SVC, LinearSVC\n",
        "from sklearn.metrics import classification_report, f1_score, accuracy_score, confusion_matrix\n",
        "from sklearn.pipeline import Pipeline\n",
        "from sklearn.model_selection import GridSearchCV\n",
        "from sklearn.model_selection import StratifiedKFold, cross_val_score, train_test_split \n",
        "from sklearn import datasets, model_selection, tree\n",
        "from sklearn.model_selection import learning_curve\n",
        "from sklearn.metrics import confusion_matrix\n",
        "from sklearn.metrics import precision_score\n",
        "from sklearn.metrics import recall_score\n",
        "from sklearn.metrics import f1_score"
      ],
      "execution_count": null,
      "outputs": []
    },
    {
      "cell_type": "code",
      "metadata": {
        "id": "ILC5U49SgoCz"
      },
      "source": [
        "def getmailtext(message):\n",
        "    body = None\n",
        "    \n",
        "    if message.is_multipart():\n",
        "        for part in message.walk():\n",
        "            if part.is_multipart():\n",
        "                for subpart in part.walk():\n",
        "                    if subpart.get_content_type() == 'text/plain':\n",
        "                        body = subpart.get_payload(decode=True)\n",
        "            elif part.get_content_type() == 'text/plain':\n",
        "                body = part.get_payload(decode=True)\n",
        "              \n",
        "    elif message.get_content_type() == 'text/plain':\n",
        "        body = message.get_payload(decode=True)\n",
        "   \n",
        "    mailtext=str(message['subject'])+\" \"+str(body)\n",
        "    return mailtext\n",
        "  "
      ],
      "execution_count": null,
      "outputs": []
    },
    {
      "cell_type": "code",
      "metadata": {
        "id": "nqSFzh9hgtJn"
      },
      "source": [
        "mbox = mailbox.mbox(('gdrive/My Drive/spam/spam.mbox'))\n",
        "\n",
        "mlist_spam = []\n",
        "\n",
        "for message in mbox:\n",
        "    mlist_spam.append(getmailtext(message))\n",
        "\n",
        "mbox_ham = mailbox.mbox('gdrive/My Drive/spam/ham.mbox')\n",
        "\n",
        "mlist_ham = []\n",
        "count=0\n",
        "\n",
        "for message in mbox_ham:\n",
        "    \n",
        "    mlist_ham.append(getmailtext(message))\n",
        "    if count>601:\n",
        "        break\n",
        "    count+=1"
      ],
      "execution_count": null,
      "outputs": []
    },
    {
      "cell_type": "code",
      "metadata": {
        "colab": {
          "base_uri": "https://localhost:8080/"
        },
        "id": "TbOQ8JRGhLqY",
        "outputId": "5ce3b09a-514e-40c4-9e88-ae97a48d379e"
      },
      "source": [
        "import pandas as pd\n",
        "spam_df = pd.DataFrame(mlist_spam, columns=[\"message\"])\n",
        "spam_df[\"label\"] = \"spam\"\n",
        "\n",
        "spam_df['length'] = spam_df['message'].map(lambda text: len(text))\n",
        "print(spam_df.head())\n",
        "\n",
        "ham_df = pd.DataFrame(mlist_ham, columns=[\"message\"])\n",
        "ham_df[\"label\"] = \"ham\"\n",
        "\n",
        "ham_df['length'] = ham_df['message'].map(lambda text: len(text))\n",
        "print(ham_df.head())"
      ],
      "execution_count": null,
      "outputs": [
        {
          "output_type": "stream",
          "text": [
            "                                             message label  length\n",
            "0  My Dear, b\"My Dear,\\n\\nPlease reply back with ...  spam    4278\n",
            "1  CAN I TRUST YOU. b\"Dear Friend,\\n\\nThis letter...  spam    3100\n",
            "2  Fwd: My Dear Friend, b\"My Dear Friend,\\n\\nGood...  spam    2591\n",
            "3  Getting thinner can be enjoyable b'Anatrim - T...  spam    2081\n",
            "4  Summer is coming, time to tone up b'Anatrim \\x...  spam    2105\n",
            "                                             message label  length\n",
            "0  Re: graduate artificial intelligence (AI) cour...   ham    5360\n",
            "1  (DBWORLD) Future Directions of Database Resear...   ham    4939\n",
            "2  KDnuggets News 99:24, November 21, 2003 b'\\nKD...   ham    4533\n",
            "3  Re: graduate course invitation b\"\\nI am still ...   ham    4155\n",
            "4  Re: Fwd: graduate artificial intelligence (AI)...   ham    4101\n"
          ],
          "name": "stdout"
        }
      ]
    },
    {
      "cell_type": "code",
      "metadata": {
        "colab": {
          "base_uri": "https://localhost:8080/"
        },
        "id": "TTcKPw-EhSBG",
        "outputId": "72b81589-fcfe-45d8-c05b-e4340cf3f9a7"
      },
      "source": [
        "mail_df = pd.concat([spam_df,ham_df])\n",
        "from sklearn.utils import shuffle\n",
        "mail_df = shuffle(mail_df)\n",
        "len(mail_df)"
      ],
      "execution_count": null,
      "outputs": [
        {
          "output_type": "execute_result",
          "data": {
            "text/plain": [
              "143"
            ]
          },
          "metadata": {
            "tags": []
          },
          "execution_count": 14
        }
      ]
    },
    {
      "cell_type": "code",
      "metadata": {
        "id": "3Qa76bp-hViH"
      },
      "source": [
        "mail_train, mail_test, y_train, y_test = train_test_split(mail_df['message'],mail_df['label'],test_size=0.33, random_state=42)"
      ],
      "execution_count": null,
      "outputs": []
    },
    {
      "cell_type": "code",
      "metadata": {
        "id": "aH5YphothZHd"
      },
      "source": [
        "def split_into_lemmas(message):\n",
        "    message = message.lower()\n",
        "    words = TextBlob(message).words\n",
        "    return [word.lemma for word in words]"
      ],
      "execution_count": null,
      "outputs": []
    },
    {
      "cell_type": "code",
      "metadata": {
        "colab": {
          "base_uri": "https://localhost:8080/"
        },
        "id": "SQSooeczhcKH",
        "outputId": "aea260cd-cdc7-404c-f93a-9289f6e06eb7"
      },
      "source": [
        "import nltk\n",
        "nltk.download('punkt')"
      ],
      "execution_count": null,
      "outputs": [
        {
          "output_type": "stream",
          "text": [
            "[nltk_data] Downloading package punkt to /root/nltk_data...\n",
            "[nltk_data]   Unzipping tokenizers/punkt.zip.\n"
          ],
          "name": "stdout"
        },
        {
          "output_type": "execute_result",
          "data": {
            "text/plain": [
              "True"
            ]
          },
          "metadata": {
            "tags": []
          },
          "execution_count": 17
        }
      ]
    },
    {
      "cell_type": "code",
      "metadata": {
        "colab": {
          "base_uri": "https://localhost:8080/"
        },
        "id": "FIihlju4dHLT",
        "outputId": "865bb0ae-50ea-49b6-bf2e-b919f0a2bd06"
      },
      "source": [
        "import nltk\n",
        "nltk.download('wordnet')"
      ],
      "execution_count": null,
      "outputs": [
        {
          "output_type": "stream",
          "text": [
            "[nltk_data] Downloading package wordnet to /root/nltk_data...\n",
            "[nltk_data]   Unzipping corpora/wordnet.zip.\n"
          ],
          "name": "stdout"
        },
        {
          "output_type": "execute_result",
          "data": {
            "text/plain": [
              "True"
            ]
          },
          "metadata": {
            "tags": []
          },
          "execution_count": 18
        }
      ]
    },
    {
      "cell_type": "code",
      "metadata": {
        "id": "lt5HfRrAdZEj"
      },
      "source": [
        "def features_transform(mail):\n",
        "    bow_transformer = CountVectorizer(analyzer=split_into_lemmas).fit(mail_train)\n",
        "    messages_bow = bow_transformer.transform(mail)\n",
        "    print('sparse matrix shape:', messages_bow.shape)\n",
        "    print('number of non-zeros:', messages_bow.nnz) \n",
        "    print('sparsity: %.2f%%' % (100.0 * messages_bow.nnz / (messages_bow.shape[0] * messages_bow.shape[1])))\n",
        "    tfidf_transformer = TfidfTransformer().fit(messages_bow)\n",
        "    messages_tfidf = tfidf_transformer.transform(messages_bow)\n",
        "    return messages_tfidf"
      ],
      "execution_count": null,
      "outputs": []
    },
    {
      "cell_type": "code",
      "metadata": {
        "colab": {
          "base_uri": "https://localhost:8080/"
        },
        "id": "kAPO0s1ffPnI",
        "outputId": "8f05374f-57f0-4f5a-8555-38825ae7bf73"
      },
      "source": [
        "train_features=features_transform(mail_train)"
      ],
      "execution_count": null,
      "outputs": [
        {
          "output_type": "stream",
          "text": [
            "sparse matrix shape: (95, 3953)\n",
            "number of non-zeros: 9601\n",
            "sparsity: 2.56%\n"
          ],
          "name": "stdout"
        }
      ]
    },
    {
      "cell_type": "code",
      "metadata": {
        "id": "7bPDBpYh639u"
      },
      "source": [
        "def model_assessment(y_test,predicted_class):\n",
        "    print('confusion matrix')\n",
        "    print(confusion_matrix(y_test,predicted_class))\n",
        "    print('accuracy')\n",
        "    print(accuracy_score(y_test,predicted_class))\n",
        "    print('precision')\n",
        "    print(precision_score(y_test,predicted_class,pos_label='spam'))\n",
        "    print('recall')\n",
        "    print(recall_score(y_test,predicted_class,pos_label='spam'))\n",
        "    print('f-Score')\n",
        "    print(f1_score(y_test,predicted_class,pos_label='spam'))\n",
        "    \n",
        "    plt.matshow(confusion_matrix(y_test, predicted_class), cmap=plt.cm.binary, interpolation='nearest')\n",
        "    plt.title('confusion matrix')\n",
        "    plt.colorbar()\n",
        "    plt.ylabel('expected label')\n",
        "    plt.xlabel('predicted label')"
      ],
      "execution_count": null,
      "outputs": []
    },
    {
      "cell_type": "code",
      "metadata": {
        "id": "3s7RAUN269jU"
      },
      "source": [
        "modelNB=MultinomialNB()"
      ],
      "execution_count": null,
      "outputs": []
    },
    {
      "cell_type": "code",
      "metadata": {
        "colab": {
          "base_uri": "https://localhost:8080/"
        },
        "id": "UD1t8sNd7AzM",
        "outputId": "04b263a0-6ce1-4d8e-8d22-e484376381bd"
      },
      "source": [
        "modelNB.fit(train_features,y_train)"
      ],
      "execution_count": null,
      "outputs": [
        {
          "output_type": "execute_result",
          "data": {
            "text/plain": [
              "MultinomialNB(alpha=1.0, class_prior=None, fit_prior=True)"
            ]
          },
          "metadata": {
            "tags": []
          },
          "execution_count": 25
        }
      ]
    },
    {
      "cell_type": "code",
      "metadata": {
        "colab": {
          "base_uri": "https://localhost:8080/"
        },
        "id": "YUCCs6I97Dmz",
        "outputId": "4d93372b-61a3-4661-cf6f-79c8516e903e"
      },
      "source": [
        "test_features=features_transform(mail_test)"
      ],
      "execution_count": null,
      "outputs": [
        {
          "output_type": "stream",
          "text": [
            "sparse matrix shape: (48, 3953)\n",
            "number of non-zeros: 2773\n",
            "sparsity: 1.46%\n"
          ],
          "name": "stdout"
        }
      ]
    },
    {
      "cell_type": "code",
      "metadata": {
        "id": "9SuZ0wwX7Gkz"
      },
      "source": [
        "predicted_class_NB=modelNB.predict(test_features)"
      ],
      "execution_count": null,
      "outputs": []
    },
    {
      "cell_type": "code",
      "metadata": {
        "colab": {
          "base_uri": "https://localhost:8080/",
          "height": 450
        },
        "id": "_1JnAwA87JsO",
        "outputId": "5c9c2102-df10-4c4b-cef9-3078c20662d8"
      },
      "source": [
        "model_assessment(y_test,predicted_class_NB)\n"
      ],
      "execution_count": null,
      "outputs": [
        {
          "output_type": "stream",
          "text": [
            "confusion matrix\n",
            "[[ 4 17]\n",
            " [ 0 27]]\n",
            "accuracy\n",
            "0.6458333333333334\n",
            "precision\n",
            "0.6136363636363636\n",
            "recall\n",
            "1.0\n",
            "f-Score\n",
            "0.7605633802816901\n"
          ],
          "name": "stdout"
        },
        {
          "output_type": "display_data",
          "data": {
            "image/png": "[encoded data removed]",
            "text/plain": [
              "<Figure size 288x288 with 2 Axes>"
            ]
          },
          "metadata": {
            "tags": []
          }
        }
      ]
    },
    {
      "cell_type": "code",
      "metadata": {
        "colab": {
          "background_save": true
        },
        "id": "NWi2N1cB7NpB"
      },
      "source": [
        "model_tree=DecisionTreeClassifier()"
      ],
      "execution_count": null,
      "outputs": []
    },
    {
      "cell_type": "code",
      "metadata": {
        "id": "tNo7YiXq7c7M",
        "colab": {
          "base_uri": "https://localhost:8080/"
        },
        "outputId": "fab535bf-8140-4385-a98e-7acd866cbf72"
      },
      "source": [
        "model_tree.fit(train_features,y_train)"
      ],
      "execution_count": null,
      "outputs": [
        {
          "output_type": "execute_result",
          "data": {
            "text/plain": [
              "DecisionTreeClassifier(ccp_alpha=0.0, class_weight=None, criterion='gini',\n",
              "                       max_depth=None, max_features=None, max_leaf_nodes=None,\n",
              "                       min_impurity_decrease=0.0, min_impurity_split=None,\n",
              "                       min_samples_leaf=1, min_samples_split=2,\n",
              "                       min_weight_fraction_leaf=0.0, presort='deprecated',\n",
              "                       random_state=None, splitter='best')"
            ]
          },
          "metadata": {
            "tags": []
          },
          "execution_count": 35
        }
      ]
    },
    {
      "cell_type": "code",
      "metadata": {
        "id": "lFrsN-se7zK6"
      },
      "source": [
        "predicted_class_tree=model_tree.predict(test_features)"
      ],
      "execution_count": null,
      "outputs": []
    },
    {
      "cell_type": "code",
      "metadata": {
        "colab": {
          "base_uri": "https://localhost:8080/",
          "height": 444
        },
        "id": "0Kl27xAX9qOF",
        "outputId": "7ab306b3-d44c-4a48-a3f2-5ded9848fc49"
      },
      "source": [
        "model_assessment(y_test,predicted_class_tree)"
      ],
      "execution_count": null,
      "outputs": [
        {
          "output_type": "stream",
          "text": [
            "confusion matrix\n",
            "[[10 11]\n",
            " [ 3 24]]\n",
            "accuracy\n",
            "0.7083333333333334\n",
            "precision\n",
            "0.6857142857142857\n",
            "recall\n",
            "0.8888888888888888\n",
            "f-Score\n",
            "0.7741935483870968\n"
          ],
          "name": "stdout"
        },
        {
          "output_type": "display_data",
          "data": {
            "image/png": "[encoded data removed]",
            "text/plain": [
              "<Figure size 288x288 with 2 Axes>"
            ]
          },
          "metadata": {
            "tags": [],
            "needs_background": "light"
          }
        }
      ]
    },
    {
      "cell_type": "code",
      "metadata": {
        "id": "HylTg-NY9yCM"
      },
      "source": [
        ""
      ],
      "execution_count": null,
      "outputs": []
    }
  ]
}